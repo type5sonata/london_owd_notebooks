{
 "cells": [
  {
   "cell_type": "markdown",
   "metadata": {},
   "source": [
    "# Creating a distance-density graph for London\n",
    "\n",
    "Implementing a chart from Alain Bertaud's _Order Without Design_ showing the relationship between density and distance from the city centre."
   ]
  },
  {
   "cell_type": "code",
   "execution_count": 48,
   "metadata": {},
   "outputs": [],
   "source": [
    "# import dependencies\n",
    "\n",
    "import pandas as pd\n",
    "from haversine import haversine\n",
    "import matplotlib.pyplot as plt\n",
    "import numpy as np"
   ]
  },
  {
   "cell_type": "code",
   "execution_count": 22,
   "metadata": {},
   "outputs": [
    {
     "data": {
      "text/html": [
       "<div>\n",
       "<style scoped>\n",
       "    .dataframe tbody tr th:only-of-type {\n",
       "        vertical-align: middle;\n",
       "    }\n",
       "\n",
       "    .dataframe tbody tr th {\n",
       "        vertical-align: top;\n",
       "    }\n",
       "\n",
       "    .dataframe thead th {\n",
       "        text-align: right;\n",
       "    }\n",
       "</style>\n",
       "<table border=\"1\" class=\"dataframe\">\n",
       "  <thead>\n",
       "    <tr style=\"text-align: right;\">\n",
       "      <th></th>\n",
       "      <th>lsoacode</th>\n",
       "      <th>hpmd202103</th>\n",
       "    </tr>\n",
       "  </thead>\n",
       "  <tbody>\n",
       "    <tr>\n",
       "      <th>0</th>\n",
       "      <td>E01011949</td>\n",
       "      <td>92692.0</td>\n",
       "    </tr>\n",
       "    <tr>\n",
       "      <th>1</th>\n",
       "      <td>E01011950</td>\n",
       "      <td>47887.0</td>\n",
       "    </tr>\n",
       "    <tr>\n",
       "      <th>2</th>\n",
       "      <td>E01011951</td>\n",
       "      <td>49176.0</td>\n",
       "    </tr>\n",
       "    <tr>\n",
       "      <th>4</th>\n",
       "      <td>E01011953</td>\n",
       "      <td>137600.0</td>\n",
       "    </tr>\n",
       "    <tr>\n",
       "      <th>5</th>\n",
       "      <td>E01011954</td>\n",
       "      <td>121214.0</td>\n",
       "    </tr>\n",
       "  </tbody>\n",
       "</table>\n",
       "</div>"
      ],
      "text/plain": [
       "    lsoacode  hpmd202103\n",
       "0  E01011949     92692.0\n",
       "1  E01011950     47887.0\n",
       "2  E01011951     49176.0\n",
       "4  E01011953    137600.0\n",
       "5  E01011954    121214.0"
      ]
     },
     "execution_count": 22,
     "metadata": {},
     "output_type": "execute_result"
    }
   ],
   "source": [
    "# import data on property prices and locations\n",
    "\n",
    "homeprices = pd.read_csv(\"hpssa202103.csv\")\n",
    "\n",
    "# drop the 2020 column\n",
    "\n",
    "homeprices = homeprices.drop(columns=\"hpmd202003\")\n",
    "\n",
    "# drop empty\n",
    "\n",
    "homeprices = homeprices.dropna(axis = 0)\n",
    "homeprices[\"lsoacode\"] = homeprices[\"lsoacode\"].astype(\"string\")\n",
    "\n",
    "# see what happened\n",
    "\n",
    "homeprices.head()"
   ]
  },
  {
   "cell_type": "code",
   "execution_count": 14,
   "metadata": {},
   "outputs": [],
   "source": [
    "# now we need to attach the pop weighted centroids of LSOAs\n",
    "# import llsoas centroid database\n",
    "\n",
    "centroids_import = pd.read_excel(\"LLSOA_Dec_2021_PWC_for_England_and_Wales_2022_888273117418112309.xlsx\")\n"
   ]
  },
  {
   "cell_type": "code",
   "execution_count": 24,
   "metadata": {},
   "outputs": [
    {
     "data": {
      "text/html": [
       "<div>\n",
       "<style scoped>\n",
       "    .dataframe tbody tr th:only-of-type {\n",
       "        vertical-align: middle;\n",
       "    }\n",
       "\n",
       "    .dataframe tbody tr th {\n",
       "        vertical-align: top;\n",
       "    }\n",
       "\n",
       "    .dataframe thead th {\n",
       "        text-align: right;\n",
       "    }\n",
       "</style>\n",
       "<table border=\"1\" class=\"dataframe\">\n",
       "  <thead>\n",
       "    <tr style=\"text-align: right;\">\n",
       "      <th></th>\n",
       "      <th>lsoacode</th>\n",
       "      <th>x</th>\n",
       "      <th>y</th>\n",
       "    </tr>\n",
       "  </thead>\n",
       "  <tbody>\n",
       "    <tr>\n",
       "      <th>0</th>\n",
       "      <td>E01000001</td>\n",
       "      <td>-0.096246</td>\n",
       "      <td>51.519538</td>\n",
       "    </tr>\n",
       "    <tr>\n",
       "      <th>1</th>\n",
       "      <td>E01018945</td>\n",
       "      <td>-4.781042</td>\n",
       "      <td>50.457514</td>\n",
       "    </tr>\n",
       "    <tr>\n",
       "      <th>2</th>\n",
       "      <td>E01000120</td>\n",
       "      <td>-0.140059</td>\n",
       "      <td>51.632161</td>\n",
       "    </tr>\n",
       "    <tr>\n",
       "      <th>3</th>\n",
       "      <td>E01031487</td>\n",
       "      <td>-0.775551</td>\n",
       "      <td>50.855770</td>\n",
       "    </tr>\n",
       "    <tr>\n",
       "      <th>4</th>\n",
       "      <td>E01021013</td>\n",
       "      <td>0.603294</td>\n",
       "      <td>50.873093</td>\n",
       "    </tr>\n",
       "  </tbody>\n",
       "</table>\n",
       "</div>"
      ],
      "text/plain": [
       "    lsoacode         x          y\n",
       "0  E01000001 -0.096246  51.519538\n",
       "1  E01018945 -4.781042  50.457514\n",
       "2  E01000120 -0.140059  51.632161\n",
       "3  E01031487 -0.775551  50.855770\n",
       "4  E01021013  0.603294  50.873093"
      ]
     },
     "execution_count": 24,
     "metadata": {},
     "output_type": "execute_result"
    }
   ],
   "source": [
    "centroids = centroids_import.drop(columns=[\"FID\", \"GlobalID\"])\n",
    "centroids = centroids.rename(columns={\"LSOA21CD\" : \"lsoacode\"})\n",
    "centroids[\"lsoacode\"] = centroids[\"lsoacode\"].astype(\"string\")\n",
    "centroids.head()"
   ]
  },
  {
   "cell_type": "code",
   "execution_count": 28,
   "metadata": {},
   "outputs": [
    {
     "data": {
      "text/html": [
       "<div>\n",
       "<style scoped>\n",
       "    .dataframe tbody tr th:only-of-type {\n",
       "        vertical-align: middle;\n",
       "    }\n",
       "\n",
       "    .dataframe tbody tr th {\n",
       "        vertical-align: top;\n",
       "    }\n",
       "\n",
       "    .dataframe thead th {\n",
       "        text-align: right;\n",
       "    }\n",
       "</style>\n",
       "<table border=\"1\" class=\"dataframe\">\n",
       "  <thead>\n",
       "    <tr style=\"text-align: right;\">\n",
       "      <th></th>\n",
       "      <th>lsoacode</th>\n",
       "      <th>hpmd202103</th>\n",
       "      <th>x</th>\n",
       "      <th>y</th>\n",
       "    </tr>\n",
       "  </thead>\n",
       "  <tbody>\n",
       "    <tr>\n",
       "      <th>0</th>\n",
       "      <td>E01011949</td>\n",
       "      <td>92692.0</td>\n",
       "      <td>-1.228186</td>\n",
       "      <td>54.674248</td>\n",
       "    </tr>\n",
       "    <tr>\n",
       "      <th>1</th>\n",
       "      <td>E01011950</td>\n",
       "      <td>47887.0</td>\n",
       "      <td>-1.219376</td>\n",
       "      <td>54.675870</td>\n",
       "    </tr>\n",
       "    <tr>\n",
       "      <th>2</th>\n",
       "      <td>E01011951</td>\n",
       "      <td>49176.0</td>\n",
       "      <td>-1.221259</td>\n",
       "      <td>54.678562</td>\n",
       "    </tr>\n",
       "    <tr>\n",
       "      <th>3</th>\n",
       "      <td>E01011953</td>\n",
       "      <td>137600.0</td>\n",
       "      <td>-1.227356</td>\n",
       "      <td>54.708389</td>\n",
       "    </tr>\n",
       "    <tr>\n",
       "      <th>4</th>\n",
       "      <td>E01011954</td>\n",
       "      <td>121214.0</td>\n",
       "      <td>-1.237867</td>\n",
       "      <td>54.711674</td>\n",
       "    </tr>\n",
       "  </tbody>\n",
       "</table>\n",
       "</div>"
      ],
      "text/plain": [
       "    lsoacode  hpmd202103         x          y\n",
       "0  E01011949     92692.0 -1.228186  54.674248\n",
       "1  E01011950     47887.0 -1.219376  54.675870\n",
       "2  E01011951     49176.0 -1.221259  54.678562\n",
       "3  E01011953    137600.0 -1.227356  54.708389\n",
       "4  E01011954    121214.0 -1.237867  54.711674"
      ]
     },
     "execution_count": 28,
     "metadata": {},
     "output_type": "execute_result"
    }
   ],
   "source": [
    "# now we merge them into one dataframe\n",
    "\n",
    "df = pd.merge(homeprices, centroids, on=\"lsoacode\", how=\"inner\")\n",
    "\n",
    "df.head()"
   ]
  },
  {
   "cell_type": "code",
   "execution_count": 35,
   "metadata": {},
   "outputs": [],
   "source": [
    "# next, we will calculate distances from charing cross\n",
    "\n",
    "# Charing Cross coordinates (latitude, longitude)\n",
    "charing_cross = (51.5074, -0.1278)\n",
    "\n",
    "# Compute distances using the Haversine formula\n",
    "df['distance_km'] = df.apply(\n",
    "    lambda row: haversine((row['y'], row['x']), charing_cross),\n",
    "    axis=1\n",
    ")"
   ]
  },
  {
   "cell_type": "code",
   "execution_count": 36,
   "metadata": {},
   "outputs": [
    {
     "data": {
      "text/html": [
       "<div>\n",
       "<style scoped>\n",
       "    .dataframe tbody tr th:only-of-type {\n",
       "        vertical-align: middle;\n",
       "    }\n",
       "\n",
       "    .dataframe tbody tr th {\n",
       "        vertical-align: top;\n",
       "    }\n",
       "\n",
       "    .dataframe thead th {\n",
       "        text-align: right;\n",
       "    }\n",
       "</style>\n",
       "<table border=\"1\" class=\"dataframe\">\n",
       "  <thead>\n",
       "    <tr style=\"text-align: right;\">\n",
       "      <th></th>\n",
       "      <th>lsoacode</th>\n",
       "      <th>hpmd202103</th>\n",
       "      <th>x</th>\n",
       "      <th>y</th>\n",
       "      <th>distance_km</th>\n",
       "    </tr>\n",
       "  </thead>\n",
       "  <tbody>\n",
       "    <tr>\n",
       "      <th>0</th>\n",
       "      <td>E01011949</td>\n",
       "      <td>92692.0</td>\n",
       "      <td>-1.228186</td>\n",
       "      <td>54.674248</td>\n",
       "      <td>359.710810</td>\n",
       "    </tr>\n",
       "    <tr>\n",
       "      <th>1</th>\n",
       "      <td>E01011950</td>\n",
       "      <td>47887.0</td>\n",
       "      <td>-1.219376</td>\n",
       "      <td>54.675870</td>\n",
       "      <td>359.767580</td>\n",
       "    </tr>\n",
       "    <tr>\n",
       "      <th>2</th>\n",
       "      <td>E01011951</td>\n",
       "      <td>49176.0</td>\n",
       "      <td>-1.221259</td>\n",
       "      <td>54.678562</td>\n",
       "      <td>360.085752</td>\n",
       "    </tr>\n",
       "    <tr>\n",
       "      <th>3</th>\n",
       "      <td>E01011953</td>\n",
       "      <td>137600.0</td>\n",
       "      <td>-1.227356</td>\n",
       "      <td>54.708389</td>\n",
       "      <td>363.410641</td>\n",
       "    </tr>\n",
       "    <tr>\n",
       "      <th>4</th>\n",
       "      <td>E01011954</td>\n",
       "      <td>121214.0</td>\n",
       "      <td>-1.237867</td>\n",
       "      <td>54.711674</td>\n",
       "      <td>363.909798</td>\n",
       "    </tr>\n",
       "  </tbody>\n",
       "</table>\n",
       "</div>"
      ],
      "text/plain": [
       "    lsoacode  hpmd202103         x          y  distance_km\n",
       "0  E01011949     92692.0 -1.228186  54.674248   359.710810\n",
       "1  E01011950     47887.0 -1.219376  54.675870   359.767580\n",
       "2  E01011951     49176.0 -1.221259  54.678562   360.085752\n",
       "3  E01011953    137600.0 -1.227356  54.708389   363.410641\n",
       "4  E01011954    121214.0 -1.237867  54.711674   363.909798"
      ]
     },
     "execution_count": 36,
     "metadata": {},
     "output_type": "execute_result"
    }
   ],
   "source": [
    "df.head()"
   ]
  },
  {
   "cell_type": "code",
   "execution_count": 39,
   "metadata": {},
   "outputs": [
    {
     "data": {
      "text/plain": [
       "<Axes: >"
      ]
     },
     "execution_count": 39,
     "metadata": {},
     "output_type": "execute_result"
    },
    {
     "data": {
      "image/png": "[encoded data removed]",
      "text/plain": [
       "<Figure size 640x480 with 1 Axes>"
      ]
     },
     "metadata": {},
     "output_type": "display_data"
    }
   ],
   "source": [
    "# see the historgram of distances in distance_km\n",
    "\n",
    "df[\"distance_km\"].hist()"
   ]
  },
  {
   "cell_type": "code",
   "execution_count": 54,
   "metadata": {},
   "outputs": [
    {
     "data": {
      "text/html": [
       "<div>\n",
       "<style scoped>\n",
       "    .dataframe tbody tr th:only-of-type {\n",
       "        vertical-align: middle;\n",
       "    }\n",
       "\n",
       "    .dataframe tbody tr th {\n",
       "        vertical-align: top;\n",
       "    }\n",
       "\n",
       "    .dataframe thead th {\n",
       "        text-align: right;\n",
       "    }\n",
       "</style>\n",
       "<table border=\"1\" class=\"dataframe\">\n",
       "  <thead>\n",
       "    <tr style=\"text-align: right;\">\n",
       "      <th></th>\n",
       "      <th>lsoacode</th>\n",
       "      <th>hpmd202103</th>\n",
       "      <th>x</th>\n",
       "      <th>y</th>\n",
       "      <th>distance_km</th>\n",
       "    </tr>\n",
       "  </thead>\n",
       "  <tbody>\n",
       "    <tr>\n",
       "      <th>3374</th>\n",
       "      <td>E01015693</td>\n",
       "      <td>530973.0</td>\n",
       "      <td>-0.414215</td>\n",
       "      <td>51.899532</td>\n",
       "      <td>47.862093</td>\n",
       "    </tr>\n",
       "    <tr>\n",
       "      <th>3375</th>\n",
       "      <td>E01015694</td>\n",
       "      <td>381806.0</td>\n",
       "      <td>-0.423910</td>\n",
       "      <td>51.902160</td>\n",
       "      <td>48.406035</td>\n",
       "    </tr>\n",
       "    <tr>\n",
       "      <th>3376</th>\n",
       "      <td>E01015695</td>\n",
       "      <td>392278.0</td>\n",
       "      <td>-0.423604</td>\n",
       "      <td>51.898389</td>\n",
       "      <td>48.017564</td>\n",
       "    </tr>\n",
       "    <tr>\n",
       "      <th>3377</th>\n",
       "      <td>E01015696</td>\n",
       "      <td>311783.0</td>\n",
       "      <td>-0.413504</td>\n",
       "      <td>51.910061</td>\n",
       "      <td>48.910404</td>\n",
       "    </tr>\n",
       "    <tr>\n",
       "      <th>3378</th>\n",
       "      <td>E01015697</td>\n",
       "      <td>313368.0</td>\n",
       "      <td>-0.412452</td>\n",
       "      <td>51.906698</td>\n",
       "      <td>48.539258</td>\n",
       "    </tr>\n",
       "  </tbody>\n",
       "</table>\n",
       "</div>"
      ],
      "text/plain": [
       "       lsoacode  hpmd202103         x          y  distance_km\n",
       "3374  E01015693    530973.0 -0.414215  51.899532    47.862093\n",
       "3375  E01015694    381806.0 -0.423910  51.902160    48.406035\n",
       "3376  E01015695    392278.0 -0.423604  51.898389    48.017564\n",
       "3377  E01015696    311783.0 -0.413504  51.910061    48.910404\n",
       "3378  E01015697    313368.0 -0.412452  51.906698    48.539258"
      ]
     },
     "execution_count": 54,
     "metadata": {},
     "output_type": "execute_result"
    }
   ],
   "source": [
    "# we want to filter to something closer to London, maybe... 20km?\n",
    "\n",
    "dff = df[df[\"distance_km\"] <= 100]\n",
    "\n",
    "dff.head()"
   ]
  },
  {
   "cell_type": "code",
   "execution_count": 57,
   "metadata": {},
   "outputs": [
    {
     "name": "stderr",
     "output_type": "stream",
     "text": [
      "/var/folders/gk/w0qjs6r15tqfbz0_dnd5lym40000gn/T/ipykernel_79248/3022395238.py:3: SettingWithCopyWarning: \n",
      "A value is trying to be set on a copy of a slice from a DataFrame.\n",
      "Try using .loc[row_indexer,col_indexer] = value instead\n",
      "\n",
      "See the caveats in the documentation: https://pandas.pydata.org/pandas-docs/stable/user_guide/indexing.html#returning-a-view-versus-a-copy\n",
      "  dff['distance_bin'] = pd.cut(dff['distance_km'], bins, right=False)\n",
      "/var/folders/gk/w0qjs6r15tqfbz0_dnd5lym40000gn/T/ipykernel_79248/3022395238.py:6: FutureWarning: The default of observed=False is deprecated and will be changed to True in a future version of pandas. Pass observed=False to retain current behavior or observed=True to adopt the future default and silence this warning.\n",
      "  avg_prices = dff.groupby('distance_bin')['hpmd202103'].mean()\n"
     ]
    },
    {
     "data": {
      "image/png": "[encoded data removed]",
      "text/plain": [
       "<Figure size 800x600 with 1 Axes>"
      ]
     },
     "metadata": {},
     "output_type": "display_data"
    }
   ],
   "source": [
    "# create bins for distance\n",
    "bins = np.arange(0, dff['distance_km'].max() + 1, 1)  # 1 km bins\n",
    "dff['distance_bin'] = pd.cut(dff['distance_km'], bins, right=False)\n",
    "\n",
    "# calculate average price for each bin\n",
    "avg_prices = dff.groupby('distance_bin')['hpmd202103'].mean()\n",
    "\n",
    "# get bin centers for plotting\n",
    "bin_centers = [interval.mid for interval in avg_prices.index]\n",
    "\n",
    "# plot density\n",
    "plt.figure(figsize=(8, 6))\n",
    "plt.plot(bin_centers, avg_prices, marker='o')\n",
    "plt.xlabel('Distance from Charing Cross (km)')\n",
    "plt.ylabel('Average Property Price (£)')\n",
    "plt.title('Average Property Prices vs Distance from Charing Cross')\n",
    "plt.grid(True)\n",
    "plt.axhline(255000) # agricultural land + construction\n",
    "plt.axhline(455000) # land with pl permission + construction\n",
    "plt.show()"
   ]
  },
  {
   "cell_type": "code",
   "execution_count": null,
   "metadata": {},
   "outputs": [],
   "source": [
    "# average Uk home consumes 0.5 acre of land\n",
    "# (very crude I know)\n",
    "# but, that is 0.005 sq km, and with an agricultural land price of £820,000 per sq km, that is a mere £4,100 in land cost\n",
    "# and then there is construction costs (£251,000? Housing Forum)\n",
    "# but planning permission land could be £670,000 per hectare!!\n",
    "# so £335,000 per \n"
   ]
  }
 ],
 "metadata": {
  "kernelspec": {
   "display_name": ".venv",
   "language": "python",
   "name": "python3"
  },
  "language_info": {
   "codemirror_mode": {
    "name": "ipython",
    "version": 3
   },
   "file_extension": ".py",
   "mimetype": "text/x-python",
   "name": "python",
   "nbconvert_exporter": "python",
   "pygments_lexer": "ipython3",
   "version": "3.12.2"
  }
 },
 "nbformat": 4,
 "nbformat_minor": 2
}
